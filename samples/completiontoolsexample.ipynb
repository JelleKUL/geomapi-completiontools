{
 "cells": [
  {
   "cell_type": "markdown",
   "metadata": {},
   "source": [
    "# Full Completiontools example\n",
    "A working sample going over the full process from start to finish.\n",
    "\n",
    "The completion process is aimed at complementing existing large datasets with newer smaller datasets. \n",
    "It also aims to leave as much of the original dataset in tact as possible, assuming it's more detailed and precise."
   ]
  },
  {
   "cell_type": "markdown",
   "metadata": {},
   "source": [
    "## Importing the package and setting up"
   ]
  },
  {
   "cell_type": "code",
   "execution_count": 1,
   "metadata": {},
   "outputs": [
    {
     "name": "stdout",
     "output_type": "stream",
     "text": [
      "Jupyter environment detected. Enabling Open3D WebVisualizer.\n",
      "[Open3D INFO] WebRTC GUI backend enabled.\n",
      "[Open3D INFO] WebRTCWindowSystem: HTTP handshake server disabled.\n"
     ]
    }
   ],
   "source": [
    "from context import completiontools\n",
    "import completiontools.utils as utils\n",
    "import os\n",
    "import open3d as o3d"
   ]
  },
  {
   "cell_type": "code",
   "execution_count": 2,
   "metadata": {},
   "outputs": [],
   "source": [
    "tresholdResolution = 0.05 # The max coverage distance\n",
    "ogGeometryPath = os.path.join(os.getcwd(),\"localfiles/voxel_grond_pointcloud.ply\")\n",
    "newGeometryPath =  os.path.join(os.getcwd(),\"localfiles/GrondSampleMesh.obj\")"
   ]
  },
  {
   "cell_type": "markdown",
   "metadata": {},
   "source": [
    "## Getting the Geometries\n",
    "Geometries can be either directly imported from a file or retrieved from a `geomapi.GeometryNode`"
   ]
  },
  {
   "cell_type": "code",
   "execution_count": 3,
   "metadata": {},
   "outputs": [],
   "source": [
    "ogGeometry = completiontools.utils.get_geometry(ogGeometryPath)\n",
    "newGeometry = completiontools.utils.get_geometry(newGeometryPath)"
   ]
  },
  {
   "cell_type": "code",
   "execution_count": 4,
   "metadata": {},
   "outputs": [],
   "source": [
    "utils.show_geometries([ogGeometry, newGeometry])"
   ]
  },
  {
   "cell_type": "markdown",
   "metadata": {},
   "source": [
    "## Single function\n",
    "`combine_geometry()` is a compound function which performs the full algorithm ans returns the combined geometry."
   ]
  },
  {
   "cell_type": "code",
   "execution_count": 5,
   "metadata": {},
   "outputs": [],
   "source": [
    "combinedGeometry = completiontools.combine_geometry(ogGeometry, newGeometry, tresholdResolution)"
   ]
  },
  {
   "cell_type": "code",
   "execution_count": 6,
   "metadata": {},
   "outputs": [],
   "source": [
    "utils.show_geometries([combinedGeometry])"
   ]
  },
  {
   "cell_type": "markdown",
   "metadata": {},
   "source": [
    "## Step-by-step\n",
    "\n",
    "The combination algorithm is performed in 2 phases: the removal and the addition phase.\n",
    "In the removal phase, all the out-of-date points in the original mesh are removed to make room for the new points.\n",
    "In the addition phase, only the new (uncovered) points from the new geometry are added, this is to ensure the existing original pointcould can keep as much relevant data as possible."
   ]
  },
  {
   "cell_type": "markdown",
   "metadata": {},
   "source": [
    "### Removal Phase Step 1: Create a convex hull of the newGeometry\n",
    "In order to prevent false removal of the original geometry, we need to limit the evaluated points of the original geometry. This is why a convex hull is created to encapsulate all the relevant points.\n"
   ]
  },
  {
   "cell_type": "code",
   "execution_count": 7,
   "metadata": {},
   "outputs": [],
   "source": [
    "newGeoHull = completiontools.get_convex_hull(newGeometry)"
   ]
  },
  {
   "cell_type": "code",
   "execution_count": 8,
   "metadata": {},
   "outputs": [],
   "source": [
    "\n",
    "utils.show_geometries([utils.get_lineset(newGeoHull), newGeometry])"
   ]
  },
  {
   "cell_type": "markdown",
   "metadata": {},
   "source": [
    "### Removal Phase Step 2: Filter out the irrelevant points in the ogGeometry\n",
    "A subselection of the original geometry is made with the convex hull as boundary volume.\n"
   ]
  },
  {
   "cell_type": "code",
   "execution_count": 9,
   "metadata": {},
   "outputs": [],
   "source": [
    "relevantOg, irrelevantOg = completiontools.get_points_in_hull(ogGeometry, newGeoHull)"
   ]
  },
  {
   "cell_type": "code",
   "execution_count": 10,
   "metadata": {},
   "outputs": [],
   "source": [
    "utils.show_geometries([utils.get_lineset(newGeoHull), relevantOg])"
   ]
  },
  {
   "cell_type": "markdown",
   "metadata": {},
   "source": [
    "### Removal Phase Step 3: Isolate the not covered points of the ogGeometry compared to the newGeometry\n",
    "To determine which points are still relevant and therefor, should not be removed we perform 2 Checks, the first one being the Coverage check. This checks If the original points are also captured on the new dataset. if they are not, they are either no longer up-to-date and should be removed, or they were not visible to the scanner and should remain in the scan. This is where the second check comes in."
   ]
  },
  {
   "cell_type": "code",
   "execution_count": 11,
   "metadata": {},
   "outputs": [],
   "source": [
    "newGeometryPoints = newGeometry.sample_points_poisson_disk(number_of_points=100000)\n",
    "coveredPoints, unCoveredPoints = utils.filter_pcd_by_distance(relevantOg, newGeometryPoints, tresholdResolution)"
   ]
  },
  {
   "cell_type": "code",
   "execution_count": 12,
   "metadata": {},
   "outputs": [],
   "source": [
    "utils.show_geometries([unCoveredPoints, newGeometry])"
   ]
  },
  {
   "cell_type": "markdown",
   "metadata": {},
   "source": [
    "### Removal Phase Step 4: performm the visibility check\n",
    "The uncovered points are chacked agains the new mesh. assuming the new scanner has caoptured everything it can see, Points that are hidden behind the geometry were not visible during the scanning process. This check is performed by finding the closest faces to the points and comparing the normal direction. Points facing the faces could have been seen by the scanner and vise versa."
   ]
  },
  {
   "cell_type": "code",
   "execution_count": 13,
   "metadata": {},
   "outputs": [],
   "source": [
    "insideList, outsideList = completiontools.check_point_inside_mesh(unCoveredPoints.points, newGeometry)\n",
    "visiblePoints = o3d.geometry.PointCloud()\n",
    "visiblePoints.points = o3d.utility.Vector3dVector(outsideList)\n",
    "invisiblePoints = o3d.geometry.PointCloud()\n",
    "invisiblePoints.points = o3d.utility.Vector3dVector(insideList)"
   ]
  },
  {
   "cell_type": "code",
   "execution_count": 14,
   "metadata": {},
   "outputs": [],
   "source": [
    "utils.show_geometries([visiblePoints, invisiblePoints, newGeometry], True)"
   ]
  },
  {
   "cell_type": "markdown",
   "metadata": {},
   "source": [
    "### Addition Phase Step 5: Filter the newGeometryPoints to only keep the changed geometry\n",
    "Because we assume The original geometry is of better quality, we will only add points that are changed. Therefor we apply an inverted distance query from the new points to the existing geometry.\n"
   ]
  },
  {
   "cell_type": "code",
   "execution_count": 15,
   "metadata": {},
   "outputs": [],
   "source": [
    "existingNewGeo, newNewGeo = utils.filter_pcd_by_distance(newGeometryPoints, relevantOg, tresholdResolution)"
   ]
  },
  {
   "cell_type": "markdown",
   "metadata": {},
   "source": [
    "### Addition Phase Step 6: Combine the irrelevant, unchanged and changed geometry\n",
    "The final step is combining the original irrelevant data, the unganged original data and the changed new geometry. The resulting geometry is a combination of both, aimed at retaining as much of the original as possible.\n"
   ]
  },
  {
   "cell_type": "code",
   "execution_count": 16,
   "metadata": {},
   "outputs": [],
   "source": [
    "newCombinedGeometry = coveredPoints + invisiblePoints + newNewGeo"
   ]
  },
  {
   "cell_type": "code",
   "execution_count": 17,
   "metadata": {},
   "outputs": [],
   "source": [
    "utils.show_geometries([coveredPoints, invisiblePoints, newNewGeo], True)"
   ]
  }
 ],
 "metadata": {
  "kernelspec": {
   "display_name": "Python 3.9.13 ('env': venv)",
   "language": "python",
   "name": "python3"
  },
  "language_info": {
   "codemirror_mode": {
    "name": "ipython",
    "version": 3
   },
   "file_extension": ".py",
   "mimetype": "text/x-python",
   "name": "python",
   "nbconvert_exporter": "python",
   "pygments_lexer": "ipython3",
   "version": "3.9.13"
  },
  "orig_nbformat": 4,
  "vscode": {
   "interpreter": {
    "hash": "50c81a87387192dcdf665828907440b8180c6975d35a8e499a4ee5503bd82e52"
   }
  }
 },
 "nbformat": 4,
 "nbformat_minor": 2
}
