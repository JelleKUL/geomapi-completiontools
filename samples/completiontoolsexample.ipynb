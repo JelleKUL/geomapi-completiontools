{
 "cells": [
  {
   "cell_type": "markdown",
   "metadata": {},
   "source": [
    "# Full Completiontools example\n",
    "A working sample going over the full process from start to finish"
   ]
  },
  {
   "cell_type": "markdown",
   "metadata": {},
   "source": [
    "## Importing the package and setting the parameters"
   ]
  },
  {
   "cell_type": "code",
   "execution_count": null,
   "metadata": {},
   "outputs": [],
   "source": [
    "from context import completiontools\n",
    "import completiontools.utils as utils\n",
    "import os\n",
    "import open3d as o3d\n",
    "tresholdResolution = 0.05 # The max coverage distance\n",
    "%load_ext autoreload\n",
    "%autoreload 2"
   ]
  },
  {
   "cell_type": "markdown",
   "metadata": {},
   "source": [
    "## Getting the Geometries"
   ]
  },
  {
   "cell_type": "code",
   "execution_count": null,
   "metadata": {},
   "outputs": [],
   "source": [
    "ogGeometryPath = os.path.join(os.getcwd(),\"localfiles/voxel_grond_pointcloud.ply\")\n",
    "newGeometryPath =  os.path.join(os.getcwd(),\"localfiles/GrondSampleMesh.obj\")\n",
    "\n",
    "ogGeometry = completiontools.utils.get_geometry(ogGeometryPath)\n",
    "newGeometry = completiontools.utils.get_geometry(newGeometryPath)\n"
   ]
  },
  {
   "cell_type": "code",
   "execution_count": null,
   "metadata": {},
   "outputs": [],
   "source": [
    "\n",
    "utils.show_geometries([ogGeometry, newGeometry])\n"
   ]
  },
  {
   "cell_type": "markdown",
   "metadata": {},
   "source": [
    "## Geometry Combination\n",
    "a function to combine aligned 2 geometries"
   ]
  },
  {
   "cell_type": "code",
   "execution_count": null,
   "metadata": {},
   "outputs": [],
   "source": [
    "combinedGeometry = completiontools.combine_geometry(ogGeometry, newGeometry, tresholdResolution)"
   ]
  },
  {
   "cell_type": "code",
   "execution_count": null,
   "metadata": {},
   "outputs": [],
   "source": [
    "utils.show_geometries([combinedGeometry])"
   ]
  },
  {
   "cell_type": "code",
   "execution_count": null,
   "metadata": {},
   "outputs": [],
   "source": [
    "# Step 1: Create a convex hull of the newGeometry\n",
    "newGeoHull = completiontools.get_convex_hull(newGeometry)"
   ]
  },
  {
   "cell_type": "code",
   "execution_count": null,
   "metadata": {},
   "outputs": [],
   "source": [
    "\n",
    "utils.show_geometries([utils.get_lineset(newGeoHull), newGeometry])"
   ]
  },
  {
   "cell_type": "code",
   "execution_count": null,
   "metadata": {},
   "outputs": [],
   "source": [
    "# Step 2: Filter out the irrelevant points in the ogGeometry\n",
    "relevantOg, irrelevantOg = completiontools.get_points_in_hull(ogGeometry, newGeoHull)"
   ]
  },
  {
   "cell_type": "code",
   "execution_count": null,
   "metadata": {},
   "outputs": [],
   "source": [
    "utils.show_geometries([utils.get_lineset(newGeoHull), relevantOg])"
   ]
  },
  {
   "cell_type": "code",
   "execution_count": null,
   "metadata": {},
   "outputs": [],
   "source": [
    "# Step 3: Isolate the not covered points of the ogGeometry compared to the newGeometry\n",
    "newGeometryPoints = newGeometry.sample_points_poisson_disk(number_of_points=100000)\n",
    "coveredPoints, unCoveredPoints = utils.filter_pcd_by_distance(relevantOg, newGeometryPoints, tresholdResolution)\n"
   ]
  },
  {
   "cell_type": "code",
   "execution_count": null,
   "metadata": {},
   "outputs": [],
   "source": [
    "utils.show_geometries([unCoveredPoints, newGeometry])"
   ]
  },
  {
   "cell_type": "code",
   "execution_count": null,
   "metadata": {},
   "outputs": [],
   "source": [
    "# step 4: performm the visibility check\n",
    "insideList, outsideList = completiontools.check_point_inside_mesh(unCoveredPoints.points, newGeometry)\n",
    "visiblePoints = o3d.geometry.PointCloud()\n",
    "visiblePoints.points = o3d.utility.Vector3dVector(outsideList)\n",
    "invisiblePoints = o3d.geometry.PointCloud()\n",
    "invisiblePoints.points = o3d.utility.Vector3dVector(insideList)"
   ]
  },
  {
   "cell_type": "code",
   "execution_count": null,
   "metadata": {},
   "outputs": [],
   "source": [
    "utils.show_geometries([visiblePoints, invisiblePoints, newGeometry], True)"
   ]
  },
  {
   "cell_type": "code",
   "execution_count": null,
   "metadata": {},
   "outputs": [],
   "source": [
    "# Step 5: Filter the newGeometryPoints to only keep the changed geometry\n",
    "existingNewGeo, newNewGeo = utils.filter_pcd_by_distance(newGeometryPoints, relevantOg, tresholdResolution)\n"
   ]
  },
  {
   "cell_type": "code",
   "execution_count": null,
   "metadata": {},
   "outputs": [],
   "source": [
    "# Step 6: Combine the irrelevant, unchanged and changed geometry\n",
    "newCombinedGeometry = coveredPoints + invisiblePoints + newNewGeo"
   ]
  },
  {
   "cell_type": "code",
   "execution_count": null,
   "metadata": {},
   "outputs": [],
   "source": [
    "utils.show_geometries([coveredPoints, invisiblePoints, newNewGeo], True)"
   ]
  }
 ],
 "metadata": {
  "kernelspec": {
   "display_name": "Python 3.9.13 ('env': venv)",
   "language": "python",
   "name": "python3"
  },
  "language_info": {
   "codemirror_mode": {
    "name": "ipython",
    "version": 3
   },
   "file_extension": ".py",
   "mimetype": "text/x-python",
   "name": "python",
   "nbconvert_exporter": "python",
   "pygments_lexer": "ipython3",
   "version": "3.9.13"
  },
  "orig_nbformat": 4,
  "vscode": {
   "interpreter": {
    "hash": "50c81a87387192dcdf665828907440b8180c6975d35a8e499a4ee5503bd82e52"
   }
  }
 },
 "nbformat": 4,
 "nbformat_minor": 2
}
