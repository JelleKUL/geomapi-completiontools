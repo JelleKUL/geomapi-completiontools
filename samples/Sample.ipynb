{
 "cells": [
  {
   "cell_type": "code",
   "execution_count": 1,
   "metadata": {},
   "outputs": [
    {
     "name": "stdout",
     "output_type": "stream",
     "text": [
      "Jupyter environment detected. Enabling Open3D WebVisualizer.\n",
      "[Open3D INFO] WebRTC GUI backend enabled.\n",
      "[Open3D INFO] WebRTCWindowSystem: HTTP handshake server disabled.\n"
     ]
    }
   ],
   "source": [
    "# Import the Packages\n",
    "from context import completiontools\n",
    "import completiontools.utils as utils\n",
    "import open3d as o3d\n",
    "import numpy as np\n"
   ]
  },
  {
   "cell_type": "code",
   "execution_count": 2,
   "metadata": {},
   "outputs": [
    {
     "data": {
      "text/plain": [
       "'hello world!'"
      ]
     },
     "execution_count": 2,
     "metadata": {},
     "output_type": "execute_result"
    }
   ],
   "source": [
    "utils.hello_world()"
   ]
  },
  {
   "cell_type": "code",
   "execution_count": 2,
   "metadata": {},
   "outputs": [],
   "source": [
    "# import a mesh\n",
    "meshPath = \"/Volumes/Data drive/Documents/Doctoraat Local/pointcloud-xr-completion/samples/BigFiles/GrondSampleMesh.obj\"\n",
    "#\"/Volumes/Data drive/Documents/Doctoraat Local/XR Paper Data/Results/1_Campus/grond/GrondMeshPart.ply\"#\n",
    "mesh = utils.get_geometry(meshPath)\n"
   ]
  },
  {
   "cell_type": "code",
   "execution_count": 3,
   "metadata": {},
   "outputs": [],
   "source": [
    "# import pointcloud\n",
    "pcdPath = \"/Volumes/Data drive/Documents/Doctoraat Local/pointcloud-xr-completion/samples/BigFiles/voxel_grond_pointcloud.ply\"\n",
    "#pcdPath = \"/Volumes/Data drive/Documents/Doctoraat Local/XR Paper Data/Results/1_Campus/grond/GrondMeshPart.ply\"\n",
    "pcd = utils.get_geometry(pcdPath)\n"
   ]
  },
  {
   "cell_type": "code",
   "execution_count": 5,
   "metadata": {},
   "outputs": [],
   "source": [
    "utils.show_geometries([mesh])\n"
   ]
  },
  {
   "cell_type": "code",
   "execution_count": null,
   "metadata": {},
   "outputs": [],
   "source": [
    "# Create the convex hull\n",
    "pcl = mesh.sample_points_poisson_disk(number_of_points=10000)\n",
    "hull, _ = pcl.compute_convex_hull()\n",
    "hull_ls = o3d.geometry.LineSet.create_from_triangle_mesh(hull)\n",
    "hull_ls.paint_uniform_color((1, 0, 0))\n",
    "o3d.visualization.draw_geometries([mesh, hull_ls])\n"
   ]
  },
  {
   "cell_type": "code",
   "execution_count": null,
   "metadata": {},
   "outputs": [],
   "source": [
    "# filter the point cloud with the Hull\n",
    "hullVerts = np.asarray(hull.vertices)\n",
    "points = np.asarray(pcd.points)\n",
    "idxs = utils.get_indices_in_hull(points, hullVerts)\n",
    "pcd_in_hull = pcd.select_by_index(idxs)\n"
   ]
  },
  {
   "cell_type": "code",
   "execution_count": null,
   "metadata": {},
   "outputs": [],
   "source": [
    "utils.show_geometries([pcd_in_hull, hull_ls])\n"
   ]
  },
  {
   "cell_type": "code",
   "execution_count": null,
   "metadata": {},
   "outputs": [],
   "source": [
    "# distance filtering the original point cloud\n",
    "dists = pcd_in_hull.compute_point_cloud_distance(pcl)\n",
    "dists = np.asarray(dists)\n",
    "ind = np.where(dists < 0.05)[0]\n",
    "pcd_without_mesh = pcd_in_hull.select_by_index(ind)\n"
   ]
  },
  {
   "cell_type": "code",
   "execution_count": null,
   "metadata": {},
   "outputs": [],
   "source": [
    "utils.show_geometries([pcd_without_mesh])\n"
   ]
  },
  {
   "cell_type": "code",
   "execution_count": null,
   "metadata": {},
   "outputs": [],
   "source": [
    "# distance filtering the new point cloud\n",
    "dists = pcl.compute_point_cloud_distance(pcd_in_hull)\n",
    "dists = np.asarray(dists)\n",
    "ind = np.where(dists > 0.05)[0]\n",
    "pcl_new, pcl_out = utils.filter_pcd_by_distance(pcl, pcd_in_hull, 0.05)\n"
   ]
  },
  {
   "cell_type": "code",
   "execution_count": null,
   "metadata": {},
   "outputs": [],
   "source": [
    "utils.show_geometries([pcl_new, pcd_without_mesh])\n"
   ]
  },
  {
   "cell_type": "code",
   "execution_count": null,
   "metadata": {},
   "outputs": [],
   "source": [
    "# combining the 2 pointclouds\n",
    "combined_pcd = pcl_new + pcd_without_mesh\n"
   ]
  },
  {
   "cell_type": "code",
   "execution_count": null,
   "metadata": {},
   "outputs": [],
   "source": [
    "\n",
    "utils.show_geometries([combined_pcd])\n"
   ]
  },
  {
   "cell_type": "code",
   "execution_count": null,
   "metadata": {},
   "outputs": [],
   "source": [
    "# add the rest of the existing point cloud back\n",
    "pcd_out_hull = pcd.select_by_index(idxs, True)\n",
    "finalPcd = pcd_out_hull + combined_pcd\n"
   ]
  },
  {
   "cell_type": "code",
   "execution_count": null,
   "metadata": {},
   "outputs": [],
   "source": [
    "\n",
    "utils.show_geometries([finalPcd])\n"
   ]
  },
  {
   "cell_type": "markdown",
   "metadata": {},
   "source": [
    "# paper Images\n"
   ]
  },
  {
   "cell_type": "markdown",
   "metadata": {},
   "source": [
    "## Display the Hull"
   ]
  },
  {
   "cell_type": "code",
   "execution_count": 1,
   "metadata": {},
   "outputs": [],
   "source": [
    "# Import the Packages\n",
    "from context import jellecomplete\n",
    "import jellecomplete.utils as utils\n",
    "import jellecomplete.complete as complete\n",
    "import open3d as o3d\n",
    "import numpy as np\n",
    "\n",
    "meshPath = \"/Volumes/Data drive/Documents/Doctoraat Local/pointcloud-xr-completion/samples/BigFiles/GrondSampleMesh.obj\"\n",
    "mesh = utils.get_geometry(meshPath)\n",
    "pcdPath = \"K:\\Projects\\2025-03 Project FWO SB Jelle\\7.Data\\21-08 Campus grond\\RAW Data\\e57\"\n",
    "pcd = utils.get_geometry(pcdPath)"
   ]
  },
  {
   "cell_type": "code",
   "execution_count": 2,
   "metadata": {},
   "outputs": [],
   "source": [
    "#show the convex Hullfilter of the point cloud\n",
    "hull, _ = mesh.compute_convex_hull()\n",
    "hull_ls = o3d.geometry.LineSet.create_from_triangle_mesh(hull)\n",
    "hull_ls.paint_uniform_color((1, 0, 0))\n",
    "\n",
    "hullVerts = np.asarray(hull.vertices)\n",
    "points = np.asarray(pcd.points)\n",
    "idxs = utils.get_indices_in_hull(points, hullVerts)\n",
    "pcd_in_hull = pcd.select_by_index(idxs)\n"
   ]
  },
  {
   "cell_type": "code",
   "execution_count": null,
   "metadata": {},
   "outputs": [],
   "source": [
    "utils.show_geometries([pcd_in_hull, hull_ls])"
   ]
  },
  {
   "cell_type": "code",
   "execution_count": null,
   "metadata": {},
   "outputs": [],
   "source": [
    "utils.show_geometries([mesh])"
   ]
  },
  {
   "cell_type": "markdown",
   "metadata": {},
   "source": [
    "## Show the points to be removed"
   ]
  },
  {
   "cell_type": "code",
   "execution_count": 3,
   "metadata": {},
   "outputs": [
    {
     "data": {
      "text/plain": [
       "PointCloud with 8035 points."
      ]
     },
     "execution_count": 3,
     "metadata": {},
     "output_type": "execute_result"
    }
   ],
   "source": [
    "# distance filtering the original point cloud\n",
    "pcl = mesh.sample_points_poisson_disk(number_of_points=100000)\n",
    "pcd_without_mesh, removedPoints = utils.filter_pcd_by_distance(pcd_in_hull, pcl, 0.1)\n",
    "removedPoints.paint_uniform_color((1, 0, 0))"
   ]
  },
  {
   "cell_type": "code",
   "execution_count": 4,
   "metadata": {},
   "outputs": [],
   "source": [
    "utils.show_geometries([pcd_without_mesh, removedPoints])"
   ]
  },
  {
   "cell_type": "markdown",
   "metadata": {},
   "source": [
    "## Show the added points"
   ]
  },
  {
   "cell_type": "code",
   "execution_count": 5,
   "metadata": {},
   "outputs": [
    {
     "data": {
      "text/plain": [
       "PointCloud with 26261 points."
      ]
     },
     "execution_count": 5,
     "metadata": {},
     "output_type": "execute_result"
    }
   ],
   "source": [
    "# distance filtering the new point cloud\n",
    "\n",
    "_, AddedPoints = utils.filter_pcd_by_distance(pcl, pcd_in_hull, 0.05)\n",
    "AddedPoints.paint_uniform_color((0, 0, 1))"
   ]
  },
  {
   "cell_type": "code",
   "execution_count": 6,
   "metadata": {},
   "outputs": [],
   "source": [
    "utils.show_geometries([pcd_without_mesh, AddedPoints])"
   ]
  },
  {
   "cell_type": "code",
   "execution_count": 7,
   "metadata": {},
   "outputs": [
    {
     "data": {
      "text/plain": [
       "True"
      ]
     },
     "execution_count": 7,
     "metadata": {},
     "output_type": "execute_result"
    }
   ],
   "source": [
    "pcd_out_hull = pcd.select_by_index(idxs, True)\n",
    "newCombinedPcd = pcd_out_hull + AddedPoints + pcd_without_mesh\n",
    "o3d.io.write_point_cloud(\"/Volumes/Data drive/Documents/Doctoraat Local/pointcloud-xr-completion/samples/BigFiles/newCombinedPcd.ply\", newCombinedPcd)"
   ]
  },
  {
   "cell_type": "markdown",
   "metadata": {},
   "source": [
    "## Open3d raycasting scene\n",
    "open 3d provides useful distance calculations to meshes from point clouds and also convex hull calculations"
   ]
  },
  {
   "cell_type": "markdown",
   "metadata": {},
   "source": [
    "### Convex hull filtering\n",
    "create a raycasting scene and a convex hull"
   ]
  },
  {
   "cell_type": "markdown",
   "metadata": {},
   "source": [
    "# Functionality check"
   ]
  },
  {
   "cell_type": "code",
   "execution_count": 1,
   "metadata": {},
   "outputs": [
    {
     "name": "stdout",
     "output_type": "stream",
     "text": [
      "Jupyter environment detected. Enabling Open3D WebVisualizer.\n",
      "[Open3D INFO] WebRTC GUI backend enabled.\n",
      "[Open3D INFO] WebRTCWindowSystem: HTTP handshake server disabled.\n"
     ]
    },
    {
     "data": {
      "text/plain": [
       "<matplotlib.image.AxesImage at 0x1e45d722700>"
      ]
     },
     "execution_count": 1,
     "metadata": {},
     "output_type": "execute_result"
    },
    {
     "data": {
      "image/png": "[encoded data removed]",
      "text/plain": [
       "<Figure size 432x288 with 1 Axes>"
      ]
     },
     "metadata": {
      "needs_background": "light"
     },
     "output_type": "display_data"
    }
   ],
   "source": [
    "import open3d as o3d\n",
    "import matplotlib.pyplot as plt\n",
    "\n",
    "cube = o3d.t.geometry.TriangleMesh.from_legacy(\n",
    "                                    o3d.geometry.TriangleMesh.create_box())\n",
    "\n",
    "# Create scene and add the cube mesh\n",
    "scene = o3d.t.geometry.RaycastingScene()\n",
    "scene.add_triangles(cube)\n",
    "\n",
    "# Rays are 6D vectors with origin and ray direction.\n",
    "# Here we use a helper function to create rays for a pinhole camera.\n",
    "rays = scene.create_rays_pinhole(fov_deg=60,\n",
    "                                 center=[0.5,0.5,0.5],\n",
    "                                 eye=[-1,-1,-1],\n",
    "                                 up=[0,0,1],\n",
    "                                 width_px=320,\n",
    "                                 height_px=240)\n",
    "\n",
    "# Compute the ray intersections.\n",
    "ans = scene.cast_rays(rays)\n",
    "\n",
    "# Visualize the hit distance (depth)\n",
    "plt.imshow(ans['t_hit'].numpy())"
   ]
  }
 ],
 "metadata": {
  "kernelspec": {
   "display_name": "Python 3.9.13 ('env': venv)",
   "language": "python",
   "name": "python3"
  },
  "language_info": {
   "codemirror_mode": {
    "name": "ipython",
    "version": 3
   },
   "file_extension": ".py",
   "mimetype": "text/x-python",
   "name": "python",
   "nbconvert_exporter": "python",
   "pygments_lexer": "ipython3",
   "version": "3.9.13"
  },
  "orig_nbformat": 4,
  "vscode": {
   "interpreter": {
    "hash": "50c81a87387192dcdf665828907440b8180c6975d35a8e499a4ee5503bd82e52"
   }
  }
 },
 "nbformat": 4,
 "nbformat_minor": 2
}
